{
 "cells": [
  {
   "cell_type": "code",
   "execution_count": 2,
   "id": "ee08df77",
   "metadata": {},
   "outputs": [],
   "source": [
    "%matplotlib inline\n",
    "import pandas as pd\n",
    "import numpy as np\n",
    "import matplotlib.pyplot as plt \n",
    "import seaborn as sns\n",
    "from sklearn.model_selection import train_test_split\n",
    "from xgboost import XGBRegressor\n",
    "from sklearn.metrics import mean_squared_error as MSE"
   ]
  },
  {
   "cell_type": "code",
   "execution_count": 3,
   "id": "ad4e83d3",
   "metadata": {},
   "outputs": [],
   "source": [
    "df = pd.read_csv('training_data.csv')"
   ]
  },
  {
   "cell_type": "code",
   "execution_count": 4,
   "id": "fb4970cd",
   "metadata": {},
   "outputs": [
    {
     "data": {
      "text/plain": [
       "(29709, 10)"
      ]
     },
     "execution_count": 4,
     "metadata": {},
     "output_type": "execute_result"
    }
   ],
   "source": [
    "df.shape"
   ]
  },
  {
   "cell_type": "code",
   "execution_count": 5,
   "id": "6c70b470",
   "metadata": {},
   "outputs": [
    {
     "data": {
      "text/html": [
       "<div>\n",
       "<style scoped>\n",
       "    .dataframe tbody tr th:only-of-type {\n",
       "        vertical-align: middle;\n",
       "    }\n",
       "\n",
       "    .dataframe tbody tr th {\n",
       "        vertical-align: top;\n",
       "    }\n",
       "\n",
       "    .dataframe thead th {\n",
       "        text-align: right;\n",
       "    }\n",
       "</style>\n",
       "<table border=\"1\" class=\"dataframe\">\n",
       "  <thead>\n",
       "    <tr style=\"text-align: right;\">\n",
       "      <th></th>\n",
       "      <th>id</th>\n",
       "      <th>MedInc</th>\n",
       "      <th>HouseAge</th>\n",
       "      <th>AveRooms</th>\n",
       "      <th>AveBedrms</th>\n",
       "      <th>Population</th>\n",
       "      <th>AveOccup</th>\n",
       "      <th>Latitude</th>\n",
       "      <th>Longitude</th>\n",
       "      <th>MedHouseVal</th>\n",
       "    </tr>\n",
       "  </thead>\n",
       "  <tbody>\n",
       "    <tr>\n",
       "      <th>0</th>\n",
       "      <td>3545</td>\n",
       "      <td>3.2375</td>\n",
       "      <td>5.0</td>\n",
       "      <td>6.028881</td>\n",
       "      <td>1.051118</td>\n",
       "      <td>4660.0</td>\n",
       "      <td>2.717201</td>\n",
       "      <td>38.10</td>\n",
       "      <td>-122.14</td>\n",
       "      <td>1.92400</td>\n",
       "    </tr>\n",
       "    <tr>\n",
       "      <th>1</th>\n",
       "      <td>36760</td>\n",
       "      <td>4.5500</td>\n",
       "      <td>18.0</td>\n",
       "      <td>6.091451</td>\n",
       "      <td>1.030581</td>\n",
       "      <td>1623.0</td>\n",
       "      <td>3.330014</td>\n",
       "      <td>34.37</td>\n",
       "      <td>-118.52</td>\n",
       "      <td>1.99100</td>\n",
       "    </tr>\n",
       "    <tr>\n",
       "      <th>2</th>\n",
       "      <td>29301</td>\n",
       "      <td>6.0743</td>\n",
       "      <td>16.0</td>\n",
       "      <td>6.394805</td>\n",
       "      <td>1.027350</td>\n",
       "      <td>1574.0</td>\n",
       "      <td>3.091451</td>\n",
       "      <td>34.11</td>\n",
       "      <td>-117.80</td>\n",
       "      <td>2.61000</td>\n",
       "    </tr>\n",
       "    <tr>\n",
       "      <th>3</th>\n",
       "      <td>285</td>\n",
       "      <td>3.6875</td>\n",
       "      <td>15.0</td>\n",
       "      <td>5.164835</td>\n",
       "      <td>1.056911</td>\n",
       "      <td>616.0</td>\n",
       "      <td>2.737892</td>\n",
       "      <td>38.49</td>\n",
       "      <td>-122.59</td>\n",
       "      <td>1.91700</td>\n",
       "    </tr>\n",
       "    <tr>\n",
       "      <th>4</th>\n",
       "      <td>30757</td>\n",
       "      <td>6.1273</td>\n",
       "      <td>11.0</td>\n",
       "      <td>6.256544</td>\n",
       "      <td>1.029503</td>\n",
       "      <td>7777.0</td>\n",
       "      <td>2.383468</td>\n",
       "      <td>34.19</td>\n",
       "      <td>-118.64</td>\n",
       "      <td>2.91500</td>\n",
       "    </tr>\n",
       "    <tr>\n",
       "      <th>5</th>\n",
       "      <td>14596</td>\n",
       "      <td>7.8750</td>\n",
       "      <td>32.0</td>\n",
       "      <td>6.397590</td>\n",
       "      <td>1.057831</td>\n",
       "      <td>1041.0</td>\n",
       "      <td>2.518717</td>\n",
       "      <td>33.61</td>\n",
       "      <td>-117.96</td>\n",
       "      <td>5.00001</td>\n",
       "    </tr>\n",
       "    <tr>\n",
       "      <th>6</th>\n",
       "      <td>32542</td>\n",
       "      <td>2.5000</td>\n",
       "      <td>31.0</td>\n",
       "      <td>3.182109</td>\n",
       "      <td>1.000000</td>\n",
       "      <td>852.0</td>\n",
       "      <td>1.562033</td>\n",
       "      <td>37.73</td>\n",
       "      <td>-122.40</td>\n",
       "      <td>1.93800</td>\n",
       "    </tr>\n",
       "    <tr>\n",
       "      <th>7</th>\n",
       "      <td>5765</td>\n",
       "      <td>3.7252</td>\n",
       "      <td>31.0</td>\n",
       "      <td>4.642229</td>\n",
       "      <td>1.089781</td>\n",
       "      <td>1035.0</td>\n",
       "      <td>2.989781</td>\n",
       "      <td>34.02</td>\n",
       "      <td>-118.48</td>\n",
       "      <td>3.69400</td>\n",
       "    </tr>\n",
       "    <tr>\n",
       "      <th>8</th>\n",
       "      <td>6491</td>\n",
       "      <td>3.0393</td>\n",
       "      <td>16.0</td>\n",
       "      <td>5.212922</td>\n",
       "      <td>1.164859</td>\n",
       "      <td>591.0</td>\n",
       "      <td>2.356764</td>\n",
       "      <td>37.33</td>\n",
       "      <td>-120.83</td>\n",
       "      <td>1.29600</td>\n",
       "    </tr>\n",
       "    <tr>\n",
       "      <th>9</th>\n",
       "      <td>11683</td>\n",
       "      <td>3.2417</td>\n",
       "      <td>35.0</td>\n",
       "      <td>5.017021</td>\n",
       "      <td>0.985816</td>\n",
       "      <td>1048.0</td>\n",
       "      <td>2.273732</td>\n",
       "      <td>34.19</td>\n",
       "      <td>-118.58</td>\n",
       "      <td>2.02900</td>\n",
       "    </tr>\n",
       "  </tbody>\n",
       "</table>\n",
       "</div>"
      ],
      "text/plain": [
       "      id  MedInc  HouseAge  AveRooms  AveBedrms  Population  AveOccup  \\\n",
       "0   3545  3.2375       5.0  6.028881   1.051118      4660.0  2.717201   \n",
       "1  36760  4.5500      18.0  6.091451   1.030581      1623.0  3.330014   \n",
       "2  29301  6.0743      16.0  6.394805   1.027350      1574.0  3.091451   \n",
       "3    285  3.6875      15.0  5.164835   1.056911       616.0  2.737892   \n",
       "4  30757  6.1273      11.0  6.256544   1.029503      7777.0  2.383468   \n",
       "5  14596  7.8750      32.0  6.397590   1.057831      1041.0  2.518717   \n",
       "6  32542  2.5000      31.0  3.182109   1.000000       852.0  1.562033   \n",
       "7   5765  3.7252      31.0  4.642229   1.089781      1035.0  2.989781   \n",
       "8   6491  3.0393      16.0  5.212922   1.164859       591.0  2.356764   \n",
       "9  11683  3.2417      35.0  5.017021   0.985816      1048.0  2.273732   \n",
       "\n",
       "   Latitude  Longitude  MedHouseVal  \n",
       "0     38.10    -122.14      1.92400  \n",
       "1     34.37    -118.52      1.99100  \n",
       "2     34.11    -117.80      2.61000  \n",
       "3     38.49    -122.59      1.91700  \n",
       "4     34.19    -118.64      2.91500  \n",
       "5     33.61    -117.96      5.00001  \n",
       "6     37.73    -122.40      1.93800  \n",
       "7     34.02    -118.48      3.69400  \n",
       "8     37.33    -120.83      1.29600  \n",
       "9     34.19    -118.58      2.02900  "
      ]
     },
     "execution_count": 5,
     "metadata": {},
     "output_type": "execute_result"
    }
   ],
   "source": [
    "df.head(10)"
   ]
  },
  {
   "cell_type": "code",
   "execution_count": 6,
   "id": "9fd8f01a",
   "metadata": {},
   "outputs": [
    {
     "data": {
      "text/html": [
       "<div>\n",
       "<style scoped>\n",
       "    .dataframe tbody tr th:only-of-type {\n",
       "        vertical-align: middle;\n",
       "    }\n",
       "\n",
       "    .dataframe tbody tr th {\n",
       "        vertical-align: top;\n",
       "    }\n",
       "\n",
       "    .dataframe thead th {\n",
       "        text-align: right;\n",
       "    }\n",
       "</style>\n",
       "<table border=\"1\" class=\"dataframe\">\n",
       "  <thead>\n",
       "    <tr style=\"text-align: right;\">\n",
       "      <th></th>\n",
       "      <th>id</th>\n",
       "      <th>MedInc</th>\n",
       "      <th>HouseAge</th>\n",
       "      <th>AveRooms</th>\n",
       "      <th>AveBedrms</th>\n",
       "      <th>Population</th>\n",
       "      <th>AveOccup</th>\n",
       "      <th>Latitude</th>\n",
       "      <th>Longitude</th>\n",
       "      <th>MedHouseVal</th>\n",
       "    </tr>\n",
       "  </thead>\n",
       "  <tbody>\n",
       "    <tr>\n",
       "      <th>count</th>\n",
       "      <td>29709.000000</td>\n",
       "      <td>29709.000000</td>\n",
       "      <td>29709.000000</td>\n",
       "      <td>29709.000000</td>\n",
       "      <td>29709.000000</td>\n",
       "      <td>29709.000000</td>\n",
       "      <td>29709.000000</td>\n",
       "      <td>29709.000000</td>\n",
       "      <td>29709.000000</td>\n",
       "      <td>29709.000000</td>\n",
       "    </tr>\n",
       "    <tr>\n",
       "      <th>mean</th>\n",
       "      <td>18603.548016</td>\n",
       "      <td>3.854474</td>\n",
       "      <td>26.084856</td>\n",
       "      <td>5.165188</td>\n",
       "      <td>1.062142</td>\n",
       "      <td>1664.366523</td>\n",
       "      <td>2.833073</td>\n",
       "      <td>35.574937</td>\n",
       "      <td>-119.559416</td>\n",
       "      <td>2.077761</td>\n",
       "    </tr>\n",
       "    <tr>\n",
       "      <th>std</th>\n",
       "      <td>10733.967318</td>\n",
       "      <td>1.808813</td>\n",
       "      <td>12.162222</td>\n",
       "      <td>1.194982</td>\n",
       "      <td>0.096120</td>\n",
       "      <td>1311.036683</td>\n",
       "      <td>2.999188</td>\n",
       "      <td>2.083048</td>\n",
       "      <td>1.975349</td>\n",
       "      <td>1.157184</td>\n",
       "    </tr>\n",
       "    <tr>\n",
       "      <th>min</th>\n",
       "      <td>1.000000</td>\n",
       "      <td>0.499900</td>\n",
       "      <td>2.000000</td>\n",
       "      <td>0.851064</td>\n",
       "      <td>0.500000</td>\n",
       "      <td>3.000000</td>\n",
       "      <td>0.950000</td>\n",
       "      <td>32.550000</td>\n",
       "      <td>-124.350000</td>\n",
       "      <td>0.149990</td>\n",
       "    </tr>\n",
       "    <tr>\n",
       "      <th>25%</th>\n",
       "      <td>9310.000000</td>\n",
       "      <td>2.600000</td>\n",
       "      <td>17.000000</td>\n",
       "      <td>4.359797</td>\n",
       "      <td>1.020216</td>\n",
       "      <td>950.000000</td>\n",
       "      <td>2.392789</td>\n",
       "      <td>33.930000</td>\n",
       "      <td>-121.800000</td>\n",
       "      <td>1.206000</td>\n",
       "    </tr>\n",
       "    <tr>\n",
       "      <th>50%</th>\n",
       "      <td>18611.000000</td>\n",
       "      <td>3.517900</td>\n",
       "      <td>25.000000</td>\n",
       "      <td>5.070281</td>\n",
       "      <td>1.054475</td>\n",
       "      <td>1383.000000</td>\n",
       "      <td>2.744425</td>\n",
       "      <td>34.190000</td>\n",
       "      <td>-118.450000</td>\n",
       "      <td>1.807000</td>\n",
       "    </tr>\n",
       "    <tr>\n",
       "      <th>75%</th>\n",
       "      <td>27928.000000</td>\n",
       "      <td>4.700000</td>\n",
       "      <td>35.000000</td>\n",
       "      <td>5.865672</td>\n",
       "      <td>1.088657</td>\n",
       "      <td>1858.000000</td>\n",
       "      <td>3.122137</td>\n",
       "      <td>37.700000</td>\n",
       "      <td>-118.020000</td>\n",
       "      <td>2.660000</td>\n",
       "    </tr>\n",
       "    <tr>\n",
       "      <th>max</th>\n",
       "      <td>37136.000000</td>\n",
       "      <td>15.000100</td>\n",
       "      <td>52.000000</td>\n",
       "      <td>23.891566</td>\n",
       "      <td>5.873181</td>\n",
       "      <td>35682.000000</td>\n",
       "      <td>502.990610</td>\n",
       "      <td>41.950000</td>\n",
       "      <td>-114.550000</td>\n",
       "      <td>5.000010</td>\n",
       "    </tr>\n",
       "  </tbody>\n",
       "</table>\n",
       "</div>"
      ],
      "text/plain": [
       "                 id        MedInc      HouseAge      AveRooms     AveBedrms  \\\n",
       "count  29709.000000  29709.000000  29709.000000  29709.000000  29709.000000   \n",
       "mean   18603.548016      3.854474     26.084856      5.165188      1.062142   \n",
       "std    10733.967318      1.808813     12.162222      1.194982      0.096120   \n",
       "min        1.000000      0.499900      2.000000      0.851064      0.500000   \n",
       "25%     9310.000000      2.600000     17.000000      4.359797      1.020216   \n",
       "50%    18611.000000      3.517900     25.000000      5.070281      1.054475   \n",
       "75%    27928.000000      4.700000     35.000000      5.865672      1.088657   \n",
       "max    37136.000000     15.000100     52.000000     23.891566      5.873181   \n",
       "\n",
       "         Population      AveOccup      Latitude     Longitude   MedHouseVal  \n",
       "count  29709.000000  29709.000000  29709.000000  29709.000000  29709.000000  \n",
       "mean    1664.366523      2.833073     35.574937   -119.559416      2.077761  \n",
       "std     1311.036683      2.999188      2.083048      1.975349      1.157184  \n",
       "min        3.000000      0.950000     32.550000   -124.350000      0.149990  \n",
       "25%      950.000000      2.392789     33.930000   -121.800000      1.206000  \n",
       "50%     1383.000000      2.744425     34.190000   -118.450000      1.807000  \n",
       "75%     1858.000000      3.122137     37.700000   -118.020000      2.660000  \n",
       "max    35682.000000    502.990610     41.950000   -114.550000      5.000010  "
      ]
     },
     "execution_count": 6,
     "metadata": {},
     "output_type": "execute_result"
    }
   ],
   "source": [
    "df.describe()"
   ]
  },
  {
   "cell_type": "code",
   "execution_count": 7,
   "id": "54371605",
   "metadata": {},
   "outputs": [
    {
     "name": "stdout",
     "output_type": "stream",
     "text": [
      "<class 'pandas.core.frame.DataFrame'>\n",
      "RangeIndex: 29709 entries, 0 to 29708\n",
      "Data columns (total 10 columns):\n",
      " #   Column       Non-Null Count  Dtype  \n",
      "---  ------       --------------  -----  \n",
      " 0   id           29709 non-null  int64  \n",
      " 1   MedInc       29709 non-null  float64\n",
      " 2   HouseAge     29709 non-null  float64\n",
      " 3   AveRooms     29709 non-null  float64\n",
      " 4   AveBedrms    29709 non-null  float64\n",
      " 5   Population   29709 non-null  float64\n",
      " 6   AveOccup     29709 non-null  float64\n",
      " 7   Latitude     29709 non-null  float64\n",
      " 8   Longitude    29709 non-null  float64\n",
      " 9   MedHouseVal  29709 non-null  float64\n",
      "dtypes: float64(9), int64(1)\n",
      "memory usage: 2.3 MB\n"
     ]
    }
   ],
   "source": [
    "df.info()"
   ]
  },
  {
   "cell_type": "code",
   "execution_count": 8,
   "id": "c5753910",
   "metadata": {},
   "outputs": [
    {
     "data": {
      "text/plain": [
       "id             0\n",
       "MedInc         0\n",
       "HouseAge       0\n",
       "AveRooms       0\n",
       "AveBedrms      0\n",
       "Population     0\n",
       "AveOccup       0\n",
       "Latitude       0\n",
       "Longitude      0\n",
       "MedHouseVal    0\n",
       "dtype: int64"
      ]
     },
     "execution_count": 8,
     "metadata": {},
     "output_type": "execute_result"
    }
   ],
   "source": [
    "df.isna().sum()"
   ]
  },
  {
   "cell_type": "code",
   "execution_count": 9,
   "id": "399bcd65",
   "metadata": {},
   "outputs": [],
   "source": [
    "def diagnostic_plots(dataframe, col):\n",
    "\n",
    "    # define figure size\n",
    "    plt.figure(figsize=(16, 4))\n",
    "\n",
    "    # histogram\n",
    "    plt.subplot(1, 3, 1)\n",
    "    sns.histplot(dataframe[col], bins=30)\n",
    "\n",
    "    # boxplot\n",
    "    plt.subplot(1, 3, 3)\n",
    "    sns.boxplot(y=dataframe[col])\n",
    "    \n",
    "    plt.show()"
   ]
  },
  {
   "cell_type": "code",
   "execution_count": 10,
   "id": "627e37e7",
   "metadata": {},
   "outputs": [
    {
     "data": {
      "image/png": "[encoded data removed]",
      "text/plain": [
       "<Figure size 1152x288 with 2 Axes>"
      ]
     },
     "metadata": {
      "needs_background": "light"
     },
     "output_type": "display_data"
    },
    {
     "data": {
      "image/png": "[encoded data removed]",
      "text/plain": [
       "<Figure size 1152x288 with 2 Axes>"
      ]
     },
     "metadata": {
      "needs_background": "light"
     },
     "output_type": "display_data"
    },
    {
     "data": {
      "image/png": "[encoded data removed]",
      "text/plain": [
       "<Figure size 1152x288 with 2 Axes>"
      ]
     },
     "metadata": {
      "needs_background": "light"
     },
     "output_type": "display_data"
    },
    {
     "data": {
      "image/png": "[encoded data removed]",
      "text/plain": [
       "<Figure size 1152x288 with 2 Axes>"
      ]
     },
     "metadata": {
      "needs_background": "light"
     },
     "output_type": "display_data"
    },
    {
     "data": {
      "image/png": "[encoded data removed]",
      "text/plain": [
       "<Figure size 1152x288 with 2 Axes>"
      ]
     },
     "metadata": {
      "needs_background": "light"
     },
     "output_type": "display_data"
    },
    {
     "data": {
      "image/png": "[encoded data removed]",
      "text/plain": [
       "<Figure size 1152x288 with 2 Axes>"
      ]
     },
     "metadata": {
      "needs_background": "light"
     },
     "output_type": "display_data"
    },
    {
     "data": {
      "image/png": "[encoded data removed]",
      "text/plain": [
       "<Figure size 1152x288 with 2 Axes>"
      ]
     },
     "metadata": {
      "needs_background": "light"
     },
     "output_type": "display_data"
    },
    {
     "data": {
      "image/png": "[encoded data removed]",
      "text/plain": [
       "<Figure size 1152x288 with 2 Axes>"
      ]
     },
     "metadata": {
      "needs_background": "light"
     },
     "output_type": "display_data"
    },
    {
     "data": {
      "image/png": "[encoded data removed]",
      "text/plain": [
       "<Figure size 1152x288 with 2 Axes>"
      ]
     },
     "metadata": {
      "needs_background": "light"
     },
     "output_type": "display_data"
    }
   ],
   "source": [
    "for col in ['MedInc','HouseAge','AveRooms','AveBedrms','Population','AveOccup','Latitude','Longitude','MedHouseVal']:\n",
    "    diagnostic_plots(df, col)"
   ]
  },
  {
   "cell_type": "code",
   "execution_count": 11,
   "id": "2e61a433",
   "metadata": {},
   "outputs": [],
   "source": [
    "def find_boundry(df,variable):\n",
    "    Q1 =df[variable].quantile(.25)\n",
    "    Q3 =df[variable].quantile(.75)\n",
    "    IQR = Q3 - Q1\n",
    "    lower_boundry = Q1 - 1.5*IQR\n",
    "    upper_boundry = Q3 + 1.5*IQR\n",
    "    \n",
    "    return lower_boundry ,upper_boundry\n",
    "\n",
    "\n",
    "def treat_outliers(df,variable):\n",
    "    lower_boundry ,upper_boundry = find_boundry(df,variable)\n",
    "    df[variable] = np.where(df[variable] > upper_boundry, upper_boundry, df[variable])\n",
    "    df[variable] = np.where(df[variable] < lower_boundry, lower_boundry, df[variable])\n",
    "    return df"
   ]
  },
  {
   "cell_type": "code",
   "execution_count": 12,
   "id": "24eaae99",
   "metadata": {},
   "outputs": [
    {
     "data": {
      "text/html": [
       "<div>\n",
       "<style scoped>\n",
       "    .dataframe tbody tr th:only-of-type {\n",
       "        vertical-align: middle;\n",
       "    }\n",
       "\n",
       "    .dataframe tbody tr th {\n",
       "        vertical-align: top;\n",
       "    }\n",
       "\n",
       "    .dataframe thead th {\n",
       "        text-align: right;\n",
       "    }\n",
       "</style>\n",
       "<table border=\"1\" class=\"dataframe\">\n",
       "  <thead>\n",
       "    <tr style=\"text-align: right;\">\n",
       "      <th></th>\n",
       "      <th>id</th>\n",
       "      <th>MedInc</th>\n",
       "      <th>HouseAge</th>\n",
       "      <th>AveRooms</th>\n",
       "      <th>AveBedrms</th>\n",
       "      <th>Population</th>\n",
       "      <th>AveOccup</th>\n",
       "      <th>Latitude</th>\n",
       "      <th>Longitude</th>\n",
       "      <th>MedHouseVal</th>\n",
       "    </tr>\n",
       "  </thead>\n",
       "  <tbody>\n",
       "    <tr>\n",
       "      <th>0</th>\n",
       "      <td>3545</td>\n",
       "      <td>3.2375</td>\n",
       "      <td>5.0</td>\n",
       "      <td>6.028881</td>\n",
       "      <td>1.051118</td>\n",
       "      <td>3220.0</td>\n",
       "      <td>2.717201</td>\n",
       "      <td>38.10</td>\n",
       "      <td>-122.14</td>\n",
       "      <td>1.924</td>\n",
       "    </tr>\n",
       "    <tr>\n",
       "      <th>1</th>\n",
       "      <td>36760</td>\n",
       "      <td>4.5500</td>\n",
       "      <td>18.0</td>\n",
       "      <td>6.091451</td>\n",
       "      <td>1.030581</td>\n",
       "      <td>1623.0</td>\n",
       "      <td>3.330014</td>\n",
       "      <td>34.37</td>\n",
       "      <td>-118.52</td>\n",
       "      <td>1.991</td>\n",
       "    </tr>\n",
       "    <tr>\n",
       "      <th>2</th>\n",
       "      <td>29301</td>\n",
       "      <td>6.0743</td>\n",
       "      <td>16.0</td>\n",
       "      <td>6.394805</td>\n",
       "      <td>1.027350</td>\n",
       "      <td>1574.0</td>\n",
       "      <td>3.091451</td>\n",
       "      <td>34.11</td>\n",
       "      <td>-117.80</td>\n",
       "      <td>2.610</td>\n",
       "    </tr>\n",
       "    <tr>\n",
       "      <th>3</th>\n",
       "      <td>285</td>\n",
       "      <td>3.6875</td>\n",
       "      <td>15.0</td>\n",
       "      <td>5.164835</td>\n",
       "      <td>1.056911</td>\n",
       "      <td>616.0</td>\n",
       "      <td>2.737892</td>\n",
       "      <td>38.49</td>\n",
       "      <td>-122.59</td>\n",
       "      <td>1.917</td>\n",
       "    </tr>\n",
       "    <tr>\n",
       "      <th>4</th>\n",
       "      <td>30757</td>\n",
       "      <td>6.1273</td>\n",
       "      <td>11.0</td>\n",
       "      <td>6.256544</td>\n",
       "      <td>1.029503</td>\n",
       "      <td>3220.0</td>\n",
       "      <td>2.383468</td>\n",
       "      <td>34.19</td>\n",
       "      <td>-118.64</td>\n",
       "      <td>2.915</td>\n",
       "    </tr>\n",
       "    <tr>\n",
       "      <th>...</th>\n",
       "      <td>...</td>\n",
       "      <td>...</td>\n",
       "      <td>...</td>\n",
       "      <td>...</td>\n",
       "      <td>...</td>\n",
       "      <td>...</td>\n",
       "      <td>...</td>\n",
       "      <td>...</td>\n",
       "      <td>...</td>\n",
       "      <td>...</td>\n",
       "    </tr>\n",
       "    <tr>\n",
       "      <th>29704</th>\n",
       "      <td>29280</td>\n",
       "      <td>4.6923</td>\n",
       "      <td>34.0</td>\n",
       "      <td>6.062972</td>\n",
       "      <td>1.091743</td>\n",
       "      <td>1198.0</td>\n",
       "      <td>2.746992</td>\n",
       "      <td>38.12</td>\n",
       "      <td>-122.17</td>\n",
       "      <td>1.617</td>\n",
       "    </tr>\n",
       "    <tr>\n",
       "      <th>29705</th>\n",
       "      <td>36351</td>\n",
       "      <td>3.1553</td>\n",
       "      <td>27.0</td>\n",
       "      <td>4.955882</td>\n",
       "      <td>1.002101</td>\n",
       "      <td>2048.0</td>\n",
       "      <td>2.433628</td>\n",
       "      <td>34.10</td>\n",
       "      <td>-117.18</td>\n",
       "      <td>1.516</td>\n",
       "    </tr>\n",
       "    <tr>\n",
       "      <th>29706</th>\n",
       "      <td>24915</td>\n",
       "      <td>2.4844</td>\n",
       "      <td>16.0</td>\n",
       "      <td>5.415350</td>\n",
       "      <td>1.069140</td>\n",
       "      <td>1446.0</td>\n",
       "      <td>3.050691</td>\n",
       "      <td>37.95</td>\n",
       "      <td>-121.31</td>\n",
       "      <td>1.143</td>\n",
       "    </tr>\n",
       "    <tr>\n",
       "      <th>29707</th>\n",
       "      <td>28148</td>\n",
       "      <td>5.1072</td>\n",
       "      <td>23.0</td>\n",
       "      <td>5.948012</td>\n",
       "      <td>1.003058</td>\n",
       "      <td>1497.0</td>\n",
       "      <td>3.111888</td>\n",
       "      <td>37.95</td>\n",
       "      <td>-121.98</td>\n",
       "      <td>2.213</td>\n",
       "    </tr>\n",
       "    <tr>\n",
       "      <th>29708</th>\n",
       "      <td>11586</td>\n",
       "      <td>5.9941</td>\n",
       "      <td>15.0</td>\n",
       "      <td>5.351585</td>\n",
       "      <td>1.058989</td>\n",
       "      <td>2435.0</td>\n",
       "      <td>2.816514</td>\n",
       "      <td>37.40</td>\n",
       "      <td>-121.85</td>\n",
       "      <td>2.671</td>\n",
       "    </tr>\n",
       "  </tbody>\n",
       "</table>\n",
       "<p>29709 rows × 10 columns</p>\n",
       "</div>"
      ],
      "text/plain": [
       "          id  MedInc  HouseAge  AveRooms  AveBedrms  Population  AveOccup  \\\n",
       "0       3545  3.2375       5.0  6.028881   1.051118      3220.0  2.717201   \n",
       "1      36760  4.5500      18.0  6.091451   1.030581      1623.0  3.330014   \n",
       "2      29301  6.0743      16.0  6.394805   1.027350      1574.0  3.091451   \n",
       "3        285  3.6875      15.0  5.164835   1.056911       616.0  2.737892   \n",
       "4      30757  6.1273      11.0  6.256544   1.029503      3220.0  2.383468   \n",
       "...      ...     ...       ...       ...        ...         ...       ...   \n",
       "29704  29280  4.6923      34.0  6.062972   1.091743      1198.0  2.746992   \n",
       "29705  36351  3.1553      27.0  4.955882   1.002101      2048.0  2.433628   \n",
       "29706  24915  2.4844      16.0  5.415350   1.069140      1446.0  3.050691   \n",
       "29707  28148  5.1072      23.0  5.948012   1.003058      1497.0  3.111888   \n",
       "29708  11586  5.9941      15.0  5.351585   1.058989      2435.0  2.816514   \n",
       "\n",
       "       Latitude  Longitude  MedHouseVal  \n",
       "0         38.10    -122.14        1.924  \n",
       "1         34.37    -118.52        1.991  \n",
       "2         34.11    -117.80        2.610  \n",
       "3         38.49    -122.59        1.917  \n",
       "4         34.19    -118.64        2.915  \n",
       "...         ...        ...          ...  \n",
       "29704     38.12    -122.17        1.617  \n",
       "29705     34.10    -117.18        1.516  \n",
       "29706     37.95    -121.31        1.143  \n",
       "29707     37.95    -121.98        2.213  \n",
       "29708     37.40    -121.85        2.671  \n",
       "\n",
       "[29709 rows x 10 columns]"
      ]
     },
     "execution_count": 12,
     "metadata": {},
     "output_type": "execute_result"
    }
   ],
   "source": [
    "treat_outliers(df,'AveOccup')\n",
    "treat_outliers(df,'MedInc')\n",
    "treat_outliers(df,'AveRooms')\n",
    "treat_outliers(df,'AveBedrms')\n",
    "treat_outliers(df,'Population')\n",
    "treat_outliers(df,'MedHouseVal')"
   ]
  },
  {
   "cell_type": "code",
   "execution_count": 13,
   "id": "a75d2447",
   "metadata": {},
   "outputs": [
    {
     "data": {
      "image/png": "[encoded data removed]",
      "text/plain": [
       "<Figure size 1152x288 with 2 Axes>"
      ]
     },
     "metadata": {
      "needs_background": "light"
     },
     "output_type": "display_data"
    },
    {
     "data": {
      "image/png": "[encoded data removed]",
      "text/plain": [
       "<Figure size 1152x288 with 2 Axes>"
      ]
     },
     "metadata": {
      "needs_background": "light"
     },
     "output_type": "display_data"
    },
    {
     "data": {
      "image/png": "[encoded data removed]",
      "text/plain": [
       "<Figure size 1152x288 with 2 Axes>"
      ]
     },
     "metadata": {
      "needs_background": "light"
     },
     "output_type": "display_data"
    },
    {
     "data": {
      "image/png": "[encoded data removed]",
      "text/plain": [
       "<Figure size 1152x288 with 2 Axes>"
      ]
     },
     "metadata": {
      "needs_background": "light"
     },
     "output_type": "display_data"
    },
    {
     "data": {
      "image/png": "[encoded data removed]",
      "text/plain": [
       "<Figure size 1152x288 with 2 Axes>"
      ]
     },
     "metadata": {
      "needs_background": "light"
     },
     "output_type": "display_data"
    },
    {
     "data": {
      "image/png": "[encoded data removed]",
      "text/plain": [
       "<Figure size 1152x288 with 2 Axes>"
      ]
     },
     "metadata": {
      "needs_background": "light"
     },
     "output_type": "display_data"
    },
    {
     "data": {
      "image/png": "[encoded data removed]",
      "text/plain": [
       "<Figure size 1152x288 with 2 Axes>"
      ]
     },
     "metadata": {
      "needs_background": "light"
     },
     "output_type": "display_data"
    },
    {
     "data": {
      "image/png": "[encoded data removed]",
      "text/plain": [
       "<Figure size 1152x288 with 2 Axes>"
      ]
     },
     "metadata": {
      "needs_background": "light"
     },
     "output_type": "display_data"
    },
    {
     "data": {
      "image/png": "[encoded data removed]",
      "text/plain": [
       "<Figure size 1152x288 with 2 Axes>"
      ]
     },
     "metadata": {
      "needs_background": "light"
     },
     "output_type": "display_data"
    }
   ],
   "source": [
    "for col in ['MedInc','HouseAge','AveRooms','AveBedrms','Population','AveOccup','Latitude','Longitude','MedHouseVal']:\n",
    "    diagnostic_plots(df, col)"
   ]
  },
  {
   "cell_type": "code",
   "execution_count": 14,
   "id": "53383982",
   "metadata": {},
   "outputs": [],
   "source": [
    "# separating the data and labels\n",
    "X = df.drop(['MedHouseVal','id'], axis=1)\n",
    "Y = df['MedHouseVal']"
   ]
  },
  {
   "cell_type": "code",
   "execution_count": 15,
   "id": "6563758a",
   "metadata": {},
   "outputs": [],
   "source": [
    "X_train,X_test,Y_train,Y_test = train_test_split(X,Y, test_size=0.35, random_state=0)"
   ]
  },
  {
   "cell_type": "code",
   "execution_count": 16,
   "id": "1bbbf839",
   "metadata": {},
   "outputs": [
    {
     "name": "stdout",
     "output_type": "stream",
     "text": [
      "(19310, 8)\n",
      "(10399, 8)\n"
     ]
    }
   ],
   "source": [
    "print(X_train.shape)\n",
    "print(X_test.shape)"
   ]
  },
  {
   "cell_type": "code",
   "execution_count": 18,
   "id": "97d6af45",
   "metadata": {},
   "outputs": [],
   "source": [
    "from sklearn.tree import DecisionTreeRegressor"
   ]
  },
  {
   "cell_type": "code",
   "execution_count": 19,
   "id": "d79a8da9",
   "metadata": {},
   "outputs": [],
   "source": [
    "regressor = DecisionTreeRegressor(random_state=0)"
   ]
  },
  {
   "cell_type": "code",
   "execution_count": 20,
   "id": "80bafd94",
   "metadata": {},
   "outputs": [
    {
     "data": {
      "text/plain": [
       "DecisionTreeRegressor(random_state=0)"
      ]
     },
     "execution_count": 20,
     "metadata": {},
     "output_type": "execute_result"
    }
   ],
   "source": [
    "regressor.fit(X_train, Y_train)"
   ]
  },
  {
   "cell_type": "code",
   "execution_count": 21,
   "id": "20f70a8f",
   "metadata": {},
   "outputs": [],
   "source": [
    "pred2 = regressor.predict(X_test)"
   ]
  },
  {
   "cell_type": "code",
   "execution_count": 22,
   "id": "be687e07",
   "metadata": {},
   "outputs": [
    {
     "data": {
      "text/plain": [
       "array([1.79 , 2.528, 1.875, ..., 1.037, 3.439, 1.615])"
      ]
     },
     "execution_count": 22,
     "metadata": {},
     "output_type": "execute_result"
    }
   ],
   "source": [
    "pred2"
   ]
  },
  {
   "cell_type": "code",
   "execution_count": 23,
   "id": "a55f7f18",
   "metadata": {},
   "outputs": [
    {
     "name": "stdout",
     "output_type": "stream",
     "text": [
      "RMSE :  0.829728\n"
     ]
    }
   ],
   "source": [
    "rmse = np.sqrt(MSE(Y_test, pred2))\n",
    "print(\"RMSE : % f\" %(rmse))"
   ]
  },
  {
   "cell_type": "code",
   "execution_count": 24,
   "id": "bf296d8f",
   "metadata": {},
   "outputs": [],
   "source": [
    "xgb_model = XGBRegressor(objective ='reg:linear', n_estimators = 10, seed = 123)"
   ]
  },
  {
   "cell_type": "code",
   "execution_count": 25,
   "id": "a511b7fc",
   "metadata": {},
   "outputs": [
    {
     "name": "stdout",
     "output_type": "stream",
     "text": [
      "[19:53:19] WARNING: C:/buildkite-agent/builds/buildkite-windows-cpu-autoscaling-group-i-030221e36e1a46bfb-1/xgboost/xgboost-ci-windows/src/objective/regression_obj.cu:213: reg:linear is now deprecated in favor of reg:squarederror.\n"
     ]
    },
    {
     "data": {
      "text/plain": [
       "XGBRegressor(base_score=0.5, booster='gbtree', callbacks=None,\n",
       "             colsample_bylevel=1, colsample_bynode=1, colsample_bytree=1,\n",
       "             early_stopping_rounds=None, enable_categorical=False,\n",
       "             eval_metric=None, feature_types=None, gamma=0, gpu_id=-1,\n",
       "             grow_policy='depthwise', importance_type=None,\n",
       "             interaction_constraints='', learning_rate=0.300000012, max_bin=256,\n",
       "             max_cat_threshold=64, max_cat_to_onehot=4, max_delta_step=0,\n",
       "             max_depth=6, max_leaves=0, min_child_weight=1, missing=nan,\n",
       "             monotone_constraints='()', n_estimators=10, n_jobs=0,\n",
       "             num_parallel_tree=1, objective='reg:linear', predictor='auto', ...)"
      ]
     },
     "execution_count": 25,
     "metadata": {},
     "output_type": "execute_result"
    }
   ],
   "source": [
    "xgb_model.fit(X_train, Y_train)"
   ]
  },
  {
   "cell_type": "code",
   "execution_count": 26,
   "id": "cc90c222",
   "metadata": {},
   "outputs": [],
   "source": [
    "pred = xgb_model.predict(X_test)"
   ]
  },
  {
   "cell_type": "code",
   "execution_count": 27,
   "id": "35253abd",
   "metadata": {},
   "outputs": [
    {
     "data": {
      "text/plain": [
       "array([1.5576676, 2.42692  , 1.507313 , ..., 0.9570641, 3.279547 ,\n",
       "       1.6483978], dtype=float32)"
      ]
     },
     "execution_count": 27,
     "metadata": {},
     "output_type": "execute_result"
    }
   ],
   "source": [
    "pred"
   ]
  },
  {
   "cell_type": "code",
   "execution_count": 28,
   "id": "4dd67520",
   "metadata": {},
   "outputs": [
    {
     "name": "stdout",
     "output_type": "stream",
     "text": [
      "RMSE :  0.596486\n"
     ]
    }
   ],
   "source": [
    "rmse = np.sqrt(MSE(Y_test, pred))\n",
    "print(\"RMSE : % f\" %(rmse))"
   ]
  },
  {
   "cell_type": "code",
   "execution_count": 29,
   "id": "2649c6e5",
   "metadata": {},
   "outputs": [
    {
     "name": "stdout",
     "output_type": "stream",
     "text": [
      "|   iter    |  target   | colsam... | max_depth | n_esti... | num_le... | subsample |\n",
      "-------------------------------------------------------------------------------------\n",
      "| \u001b[0m1        \u001b[0m | \u001b[0m-0.6342  \u001b[0m | \u001b[0m0.2001   \u001b[0m | \u001b[0m5.529    \u001b[0m | \u001b[0m65.91    \u001b[0m | \u001b[0m13.04    \u001b[0m | \u001b[0m0.8463   \u001b[0m |\n",
      "| \u001b[95m2        \u001b[0m | \u001b[95m-0.5872  \u001b[0m | \u001b[95m0.4667   \u001b[0m | \u001b[95m9.669    \u001b[0m | \u001b[95m188.9    \u001b[0m | \u001b[95m14.97    \u001b[0m | \u001b[95m0.9708   \u001b[0m |\n",
      "| \u001b[0m3        \u001b[0m | \u001b[0m-0.6919  \u001b[0m | \u001b[0m0.9565   \u001b[0m | \u001b[0m8.878    \u001b[0m | \u001b[0m14.39    \u001b[0m | \u001b[0m27.15    \u001b[0m | \u001b[0m0.464    \u001b[0m |\n",
      "| \u001b[0m4        \u001b[0m | \u001b[0m-0.588   \u001b[0m | \u001b[0m0.6596   \u001b[0m | \u001b[0m6.544    \u001b[0m | \u001b[0m233.1    \u001b[0m | \u001b[0m18.11    \u001b[0m | \u001b[0m0.61     \u001b[0m |\n",
      "| \u001b[0m5        \u001b[0m | \u001b[0m-0.7282  \u001b[0m | \u001b[0m0.3209   \u001b[0m | \u001b[0m5.709    \u001b[0m | \u001b[0m19.19    \u001b[0m | \u001b[0m21.62    \u001b[0m | \u001b[0m0.8455   \u001b[0m |\n",
      "| \u001b[0m6        \u001b[0m | \u001b[0m-0.5881  \u001b[0m | \u001b[0m0.6334   \u001b[0m | \u001b[0m5.988    \u001b[0m | \u001b[0m233.1    \u001b[0m | \u001b[0m19.27    \u001b[0m | \u001b[0m0.4881   \u001b[0m |\n",
      "| \u001b[0m7        \u001b[0m | \u001b[0m-0.5907  \u001b[0m | \u001b[0m0.999    \u001b[0m | \u001b[0m15.0     \u001b[0m | \u001b[0m209.6    \u001b[0m | \u001b[0m30.0     \u001b[0m | \u001b[0m0.999    \u001b[0m |\n",
      "| \u001b[0m8        \u001b[0m | \u001b[0m-0.5903  \u001b[0m | \u001b[0m0.8386   \u001b[0m | \u001b[0m15.0     \u001b[0m | \u001b[0m153.5    \u001b[0m | \u001b[0m30.0     \u001b[0m | \u001b[0m0.362    \u001b[0m |\n",
      "| \u001b[0m9        \u001b[0m | \u001b[0m-0.6002  \u001b[0m | \u001b[0m0.999    \u001b[0m | \u001b[0m3.0      \u001b[0m | \u001b[0m122.0    \u001b[0m | \u001b[0m10.0     \u001b[0m | \u001b[0m0.9557   \u001b[0m |\n",
      "| \u001b[0m10       \u001b[0m | \u001b[0m-0.6721  \u001b[0m | \u001b[0m0.1      \u001b[0m | \u001b[0m15.0     \u001b[0m | \u001b[0m101.9    \u001b[0m | \u001b[0m30.0     \u001b[0m | \u001b[0m0.1      \u001b[0m |\n",
      "| \u001b[0m11       \u001b[0m | \u001b[0m-0.6503  \u001b[0m | \u001b[0m0.1      \u001b[0m | \u001b[0m3.0      \u001b[0m | \u001b[0m157.4    \u001b[0m | \u001b[0m10.0     \u001b[0m | \u001b[0m0.999    \u001b[0m |\n",
      "| \u001b[0m12       \u001b[0m | \u001b[0m-0.5934  \u001b[0m | \u001b[0m0.6047   \u001b[0m | \u001b[0m3.0      \u001b[0m | \u001b[0m210.6    \u001b[0m | \u001b[0m10.0     \u001b[0m | \u001b[0m0.1      \u001b[0m |\n",
      "| \u001b[0m13       \u001b[0m | \u001b[0m-0.5903  \u001b[0m | \u001b[0m0.999    \u001b[0m | \u001b[0m15.0     \u001b[0m | \u001b[0m178.7    \u001b[0m | \u001b[0m30.0     \u001b[0m | \u001b[0m0.1      \u001b[0m |\n",
      "| \u001b[0m14       \u001b[0m | \u001b[0m-0.5914  \u001b[0m | \u001b[0m0.999    \u001b[0m | \u001b[0m15.0     \u001b[0m | \u001b[0m250.0    \u001b[0m | \u001b[0m30.0     \u001b[0m | \u001b[0m0.999    \u001b[0m |\n",
      "| \u001b[0m15       \u001b[0m | \u001b[0m-0.6071  \u001b[0m | \u001b[0m0.3019   \u001b[0m | \u001b[0m4.37     \u001b[0m | \u001b[0m249.5    \u001b[0m | \u001b[0m10.89    \u001b[0m | \u001b[0m0.1122   \u001b[0m |\n",
      "| \u001b[0m16       \u001b[0m | \u001b[0m-0.5935  \u001b[0m | \u001b[0m0.999    \u001b[0m | \u001b[0m3.0      \u001b[0m | \u001b[0m194.8    \u001b[0m | \u001b[0m30.0     \u001b[0m | \u001b[0m0.1      \u001b[0m |\n",
      "| \u001b[0m17       \u001b[0m | \u001b[0m-0.5984  \u001b[0m | \u001b[0m0.999    \u001b[0m | \u001b[0m3.0      \u001b[0m | \u001b[0m134.7    \u001b[0m | \u001b[0m30.0     \u001b[0m | \u001b[0m0.1      \u001b[0m |\n",
      "| \u001b[0m18       \u001b[0m | \u001b[0m-0.5893  \u001b[0m | \u001b[0m0.999    \u001b[0m | \u001b[0m15.0     \u001b[0m | \u001b[0m204.0    \u001b[0m | \u001b[0m10.0     \u001b[0m | \u001b[0m0.1      \u001b[0m |\n",
      "| \u001b[0m19       \u001b[0m | \u001b[0m-0.6538  \u001b[0m | \u001b[0m0.1      \u001b[0m | \u001b[0m15.0     \u001b[0m | \u001b[0m230.0    \u001b[0m | \u001b[0m30.0     \u001b[0m | \u001b[0m0.1      \u001b[0m |\n",
      "| \u001b[0m20       \u001b[0m | \u001b[0m-0.5917  \u001b[0m | \u001b[0m0.999    \u001b[0m | \u001b[0m15.0     \u001b[0m | \u001b[0m135.3    \u001b[0m | \u001b[0m15.66    \u001b[0m | \u001b[0m0.999    \u001b[0m |\n",
      "=====================================================================================\n"
     ]
    },
    {
     "data": {
      "text/plain": [
       "LGBMRegressor(colsample_bytree=0.4667195539991278, max_depth=9,\n",
       "              n_estimators=188, num_leaves=14, random_state=121,\n",
       "              subsample=0.9708247999554284)"
      ]
     },
     "execution_count": 29,
     "metadata": {},
     "output_type": "execute_result"
    }
   ],
   "source": [
    "from sklearn.model_selection import cross_val_score\n",
    "from bayes_opt import BayesianOptimization\n",
    "import lightgbm as lgb\n",
    "from lightgbm import LGBMRegressor\n",
    "def lgb_cv(n_estimators, max_depth, num_leaves, subsample,colsample_bytree, data, targets):\n",
    "    estimator = LGBMRegressor(\n",
    "        n_estimators=n_estimators,\n",
    "        max_depth=max_depth,\n",
    "        num_leaves=num_leaves,\n",
    "        subsample=subsample,\n",
    "        colsample_bytree=colsample_bytree,\n",
    "        random_state=121,\n",
    "        class_weight='balanced'\n",
    "    )\n",
    "    cval = cross_val_score(estimator, data, targets,\n",
    "                           scoring='neg_root_mean_squared_error', cv=3)\n",
    "    return cval.mean()\n",
    "\n",
    "def lgb_crossval(n_estimators, max_depth, num_leaves, subsample,colsample_bytree):\n",
    "        return lgb_cv(\n",
    "            n_estimators=int(n_estimators),\n",
    "            max_depth=int(max_depth),\n",
    "            num_leaves=int(num_leaves),\n",
    "            subsample=max(min(subsample, 0.999), 1e-3),\n",
    "            colsample_bytree=max(min(colsample_bytree, 0.999), 1e-3),\n",
    "            data=X_train,\n",
    "            targets=Y_train,\n",
    "        )\n",
    "        \n",
    "optimizer = BayesianOptimization(\n",
    "        f=lgb_crossval,\n",
    "        pbounds={\n",
    "            \"n_estimators\": (10, 250),\n",
    "            \"max_depth\": (3,15),\n",
    "            \"num_leaves\": (10, 30),\n",
    "            \"subsample\": (0.1, 0.999),\n",
    "            \"colsample_bytree\":(0.1, 0.999)\n",
    "        },\n",
    "        random_state=121,\n",
    "        verbose=2\n",
    "    )\n",
    "optimizer.maximize(n_iter=15)\n",
    "\n",
    "best_params = optimizer.max['params']\n",
    "best_params['max_depth'] = int(best_params['max_depth'])\n",
    "best_params['num_leaves'] = int(best_params['num_leaves'])\n",
    "best_params['subsample'] = (best_params['subsample'])\n",
    "best_params['colsample_bytree'] = (best_params['colsample_bytree'])\n",
    "best_params['n_estimators'] = int(best_params['n_estimators'])\n",
    "\n",
    "best_model = LGBMRegressor(random_state=121)\n",
    "best_model.set_params(**best_params)\n",
    "best_model.fit(X_train, Y_train)"
   ]
  },
  {
   "cell_type": "code",
   "execution_count": 30,
   "id": "19c3af4e",
   "metadata": {},
   "outputs": [],
   "source": [
    "model = LGBMRegressor(colsample_bytree=0.4667195539991278, max_depth=9,\n",
    "              n_estimators=188, num_leaves=14, random_state=121,\n",
    "              subsample=0.9708247999554284)"
   ]
  },
  {
   "cell_type": "code",
   "execution_count": 31,
   "id": "f6c26ae8",
   "metadata": {},
   "outputs": [
    {
     "data": {
      "text/plain": [
       "LGBMRegressor(colsample_bytree=0.4667195539991278, max_depth=9,\n",
       "              n_estimators=188, num_leaves=14, random_state=121,\n",
       "              subsample=0.9708247999554284)"
      ]
     },
     "execution_count": 31,
     "metadata": {},
     "output_type": "execute_result"
    }
   ],
   "source": [
    "model.fit(X_train, Y_train)"
   ]
  },
  {
   "cell_type": "code",
   "execution_count": 32,
   "id": "f0fd2858",
   "metadata": {},
   "outputs": [],
   "source": [
    "y_pred = model.predict(X_test)"
   ]
  },
  {
   "cell_type": "code",
   "execution_count": 33,
   "id": "3c5b0542",
   "metadata": {},
   "outputs": [
    {
     "name": "stdout",
     "output_type": "stream",
     "text": [
      "RMSE :  0.563828\n"
     ]
    }
   ],
   "source": [
    "rmse = np.sqrt(MSE(Y_test, y_pred))\n",
    "print(\"RMSE : % f\" %(rmse))"
   ]
  },
  {
   "cell_type": "code",
   "execution_count": 34,
   "id": "0542acf1",
   "metadata": {},
   "outputs": [],
   "source": [
    "df1 = pd.read_csv('testing_data.csv')"
   ]
  },
  {
   "cell_type": "code",
   "execution_count": 35,
   "id": "434a9062",
   "metadata": {},
   "outputs": [
    {
     "data": {
      "text/html": [
       "<div>\n",
       "<style scoped>\n",
       "    .dataframe tbody tr th:only-of-type {\n",
       "        vertical-align: middle;\n",
       "    }\n",
       "\n",
       "    .dataframe tbody tr th {\n",
       "        vertical-align: top;\n",
       "    }\n",
       "\n",
       "    .dataframe thead th {\n",
       "        text-align: right;\n",
       "    }\n",
       "</style>\n",
       "<table border=\"1\" class=\"dataframe\">\n",
       "  <thead>\n",
       "    <tr style=\"text-align: right;\">\n",
       "      <th></th>\n",
       "      <th>id</th>\n",
       "      <th>MedInc</th>\n",
       "      <th>HouseAge</th>\n",
       "      <th>AveRooms</th>\n",
       "      <th>AveBedrms</th>\n",
       "      <th>Population</th>\n",
       "      <th>AveOccup</th>\n",
       "      <th>Latitude</th>\n",
       "      <th>Longitude</th>\n",
       "    </tr>\n",
       "  </thead>\n",
       "  <tbody>\n",
       "    <tr>\n",
       "      <th>0</th>\n",
       "      <td>16148</td>\n",
       "      <td>2.2235</td>\n",
       "      <td>12.0</td>\n",
       "      <td>3.967700</td>\n",
       "      <td>1.177003</td>\n",
       "      <td>1457.0</td>\n",
       "      <td>3.633075</td>\n",
       "      <td>34.09</td>\n",
       "      <td>-117.30</td>\n",
       "    </tr>\n",
       "    <tr>\n",
       "      <th>1</th>\n",
       "      <td>7213</td>\n",
       "      <td>4.0484</td>\n",
       "      <td>26.0</td>\n",
       "      <td>6.776596</td>\n",
       "      <td>1.038298</td>\n",
       "      <td>1816.0</td>\n",
       "      <td>3.836257</td>\n",
       "      <td>34.28</td>\n",
       "      <td>-118.74</td>\n",
       "    </tr>\n",
       "    <tr>\n",
       "      <th>2</th>\n",
       "      <td>23067</td>\n",
       "      <td>2.3571</td>\n",
       "      <td>20.0</td>\n",
       "      <td>3.621701</td>\n",
       "      <td>1.074380</td>\n",
       "      <td>2919.0</td>\n",
       "      <td>1.554825</td>\n",
       "      <td>37.36</td>\n",
       "      <td>-121.89</td>\n",
       "    </tr>\n",
       "    <tr>\n",
       "      <th>3</th>\n",
       "      <td>28335</td>\n",
       "      <td>1.7552</td>\n",
       "      <td>30.0</td>\n",
       "      <td>2.342071</td>\n",
       "      <td>1.093834</td>\n",
       "      <td>1327.0</td>\n",
       "      <td>3.065442</td>\n",
       "      <td>34.05</td>\n",
       "      <td>-118.29</td>\n",
       "    </tr>\n",
       "    <tr>\n",
       "      <th>4</th>\n",
       "      <td>33439</td>\n",
       "      <td>2.5754</td>\n",
       "      <td>52.0</td>\n",
       "      <td>3.136150</td>\n",
       "      <td>1.166667</td>\n",
       "      <td>870.0</td>\n",
       "      <td>1.890476</td>\n",
       "      <td>37.78</td>\n",
       "      <td>-122.42</td>\n",
       "    </tr>\n",
       "    <tr>\n",
       "      <th>...</th>\n",
       "      <td>...</td>\n",
       "      <td>...</td>\n",
       "      <td>...</td>\n",
       "      <td>...</td>\n",
       "      <td>...</td>\n",
       "      <td>...</td>\n",
       "      <td>...</td>\n",
       "      <td>...</td>\n",
       "      <td>...</td>\n",
       "    </tr>\n",
       "    <tr>\n",
       "      <th>7423</th>\n",
       "      <td>1808</td>\n",
       "      <td>2.3798</td>\n",
       "      <td>19.0</td>\n",
       "      <td>2.936508</td>\n",
       "      <td>1.065476</td>\n",
       "      <td>2889.0</td>\n",
       "      <td>3.803681</td>\n",
       "      <td>33.97</td>\n",
       "      <td>-118.18</td>\n",
       "    </tr>\n",
       "    <tr>\n",
       "      <th>7424</th>\n",
       "      <td>20289</td>\n",
       "      <td>2.7417</td>\n",
       "      <td>11.0</td>\n",
       "      <td>4.983310</td>\n",
       "      <td>1.129222</td>\n",
       "      <td>3093.0</td>\n",
       "      <td>2.691131</td>\n",
       "      <td>34.96</td>\n",
       "      <td>-116.96</td>\n",
       "    </tr>\n",
       "    <tr>\n",
       "      <th>7425</th>\n",
       "      <td>9269</td>\n",
       "      <td>6.9257</td>\n",
       "      <td>23.0</td>\n",
       "      <td>6.889535</td>\n",
       "      <td>0.961783</td>\n",
       "      <td>835.0</td>\n",
       "      <td>3.123711</td>\n",
       "      <td>33.70</td>\n",
       "      <td>-118.07</td>\n",
       "    </tr>\n",
       "    <tr>\n",
       "      <th>7426</th>\n",
       "      <td>24959</td>\n",
       "      <td>10.0760</td>\n",
       "      <td>28.0</td>\n",
       "      <td>8.187817</td>\n",
       "      <td>1.015228</td>\n",
       "      <td>1510.0</td>\n",
       "      <td>2.522843</td>\n",
       "      <td>37.37</td>\n",
       "      <td>-122.33</td>\n",
       "    </tr>\n",
       "    <tr>\n",
       "      <th>7427</th>\n",
       "      <td>15997</td>\n",
       "      <td>4.1071</td>\n",
       "      <td>32.0</td>\n",
       "      <td>5.081585</td>\n",
       "      <td>0.939803</td>\n",
       "      <td>1679.0</td>\n",
       "      <td>3.422845</td>\n",
       "      <td>34.13</td>\n",
       "      <td>-117.98</td>\n",
       "    </tr>\n",
       "  </tbody>\n",
       "</table>\n",
       "<p>7428 rows × 9 columns</p>\n",
       "</div>"
      ],
      "text/plain": [
       "         id   MedInc  HouseAge  AveRooms  AveBedrms  Population  AveOccup  \\\n",
       "0     16148   2.2235      12.0  3.967700   1.177003      1457.0  3.633075   \n",
       "1      7213   4.0484      26.0  6.776596   1.038298      1816.0  3.836257   \n",
       "2     23067   2.3571      20.0  3.621701   1.074380      2919.0  1.554825   \n",
       "3     28335   1.7552      30.0  2.342071   1.093834      1327.0  3.065442   \n",
       "4     33439   2.5754      52.0  3.136150   1.166667       870.0  1.890476   \n",
       "...     ...      ...       ...       ...        ...         ...       ...   \n",
       "7423   1808   2.3798      19.0  2.936508   1.065476      2889.0  3.803681   \n",
       "7424  20289   2.7417      11.0  4.983310   1.129222      3093.0  2.691131   \n",
       "7425   9269   6.9257      23.0  6.889535   0.961783       835.0  3.123711   \n",
       "7426  24959  10.0760      28.0  8.187817   1.015228      1510.0  2.522843   \n",
       "7427  15997   4.1071      32.0  5.081585   0.939803      1679.0  3.422845   \n",
       "\n",
       "      Latitude  Longitude  \n",
       "0        34.09    -117.30  \n",
       "1        34.28    -118.74  \n",
       "2        37.36    -121.89  \n",
       "3        34.05    -118.29  \n",
       "4        37.78    -122.42  \n",
       "...        ...        ...  \n",
       "7423     33.97    -118.18  \n",
       "7424     34.96    -116.96  \n",
       "7425     33.70    -118.07  \n",
       "7426     37.37    -122.33  \n",
       "7427     34.13    -117.98  \n",
       "\n",
       "[7428 rows x 9 columns]"
      ]
     },
     "execution_count": 35,
     "metadata": {},
     "output_type": "execute_result"
    }
   ],
   "source": [
    "df1"
   ]
  },
  {
   "cell_type": "code",
   "execution_count": 36,
   "id": "40c12bf7",
   "metadata": {},
   "outputs": [],
   "source": [
    "house_id = df1.id"
   ]
  },
  {
   "cell_type": "code",
   "execution_count": 37,
   "id": "a56a89da",
   "metadata": {},
   "outputs": [],
   "source": [
    "df1.drop('id', axis = 1, inplace=True)"
   ]
  },
  {
   "cell_type": "code",
   "execution_count": 38,
   "id": "96c0f2d3",
   "metadata": {},
   "outputs": [],
   "source": [
    "test_pred = model.predict(df1)"
   ]
  },
  {
   "cell_type": "code",
   "execution_count": 39,
   "id": "956641ff",
   "metadata": {},
   "outputs": [
    {
     "data": {
      "text/plain": [
       "array([0.94147018, 1.8090017 , 2.17219248, ..., 3.24983349, 5.01486299,\n",
       "       1.75244749])"
      ]
     },
     "execution_count": 39,
     "metadata": {},
     "output_type": "execute_result"
    }
   ],
   "source": [
    "test_pred"
   ]
  },
  {
   "cell_type": "code",
   "execution_count": 40,
   "id": "da8dde87",
   "metadata": {},
   "outputs": [],
   "source": [
    "df2 = pd.DataFrame({\"house_id\":house_id, \"test_pred\": test_pred})"
   ]
  },
  {
   "cell_type": "code",
   "execution_count": 41,
   "id": "fcbb5495",
   "metadata": {},
   "outputs": [],
   "source": [
    "df2.to_csv(\"Submission.csv\",index=False)"
   ]
  },
  {
   "cell_type": "code",
   "execution_count": 42,
   "id": "0ac3a0b5",
   "metadata": {},
   "outputs": [
    {
     "data": {
      "text/html": [
       "<div>\n",
       "<style scoped>\n",
       "    .dataframe tbody tr th:only-of-type {\n",
       "        vertical-align: middle;\n",
       "    }\n",
       "\n",
       "    .dataframe tbody tr th {\n",
       "        vertical-align: top;\n",
       "    }\n",
       "\n",
       "    .dataframe thead th {\n",
       "        text-align: right;\n",
       "    }\n",
       "</style>\n",
       "<table border=\"1\" class=\"dataframe\">\n",
       "  <thead>\n",
       "    <tr style=\"text-align: right;\">\n",
       "      <th></th>\n",
       "      <th>house_id</th>\n",
       "      <th>test_pred</th>\n",
       "    </tr>\n",
       "  </thead>\n",
       "  <tbody>\n",
       "    <tr>\n",
       "      <th>0</th>\n",
       "      <td>16148</td>\n",
       "      <td>0.941470</td>\n",
       "    </tr>\n",
       "    <tr>\n",
       "      <th>1</th>\n",
       "      <td>7213</td>\n",
       "      <td>1.809002</td>\n",
       "    </tr>\n",
       "    <tr>\n",
       "      <th>2</th>\n",
       "      <td>23067</td>\n",
       "      <td>2.172192</td>\n",
       "    </tr>\n",
       "    <tr>\n",
       "      <th>3</th>\n",
       "      <td>28335</td>\n",
       "      <td>1.623495</td>\n",
       "    </tr>\n",
       "    <tr>\n",
       "      <th>4</th>\n",
       "      <td>33439</td>\n",
       "      <td>2.480715</td>\n",
       "    </tr>\n",
       "    <tr>\n",
       "      <th>...</th>\n",
       "      <td>...</td>\n",
       "      <td>...</td>\n",
       "    </tr>\n",
       "    <tr>\n",
       "      <th>7423</th>\n",
       "      <td>1808</td>\n",
       "      <td>1.429098</td>\n",
       "    </tr>\n",
       "    <tr>\n",
       "      <th>7424</th>\n",
       "      <td>20289</td>\n",
       "      <td>0.768150</td>\n",
       "    </tr>\n",
       "    <tr>\n",
       "      <th>7425</th>\n",
       "      <td>9269</td>\n",
       "      <td>3.249833</td>\n",
       "    </tr>\n",
       "    <tr>\n",
       "      <th>7426</th>\n",
       "      <td>24959</td>\n",
       "      <td>5.014863</td>\n",
       "    </tr>\n",
       "    <tr>\n",
       "      <th>7427</th>\n",
       "      <td>15997</td>\n",
       "      <td>1.752447</td>\n",
       "    </tr>\n",
       "  </tbody>\n",
       "</table>\n",
       "<p>7428 rows × 2 columns</p>\n",
       "</div>"
      ],
      "text/plain": [
       "      house_id  test_pred\n",
       "0        16148   0.941470\n",
       "1         7213   1.809002\n",
       "2        23067   2.172192\n",
       "3        28335   1.623495\n",
       "4        33439   2.480715\n",
       "...        ...        ...\n",
       "7423      1808   1.429098\n",
       "7424     20289   0.768150\n",
       "7425      9269   3.249833\n",
       "7426     24959   5.014863\n",
       "7427     15997   1.752447\n",
       "\n",
       "[7428 rows x 2 columns]"
      ]
     },
     "execution_count": 42,
     "metadata": {},
     "output_type": "execute_result"
    }
   ],
   "source": [
    "df2"
   ]
  },
  {
   "cell_type": "code",
   "execution_count": null,
   "id": "5861abce",
   "metadata": {},
   "outputs": [],
   "source": []
  }
 ],
 "metadata": {
  "kernelspec": {
   "display_name": "Python 3 (ipykernel)",
   "language": "python",
   "name": "python3"
  },
  "language_info": {
   "codemirror_mode": {
    "name": "ipython",
    "version": 3
   },
   "file_extension": ".py",
   "mimetype": "text/x-python",
   "name": "python",
   "nbconvert_exporter": "python",
   "pygments_lexer": "ipython3",
   "version": "3.9.12"
  }
 },
 "nbformat": 4,
 "nbformat_minor": 5
}
